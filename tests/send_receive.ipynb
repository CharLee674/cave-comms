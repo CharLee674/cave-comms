{
 "cells": [
  {
   "attachments": {},
   "cell_type": "markdown",
   "metadata": {},
   "source": [
    "# Firmware System Design\n",
    "\n",
    "## Blue Pill Specs\n",
    "Technical Specifications of STM32\n",
    "\n",
    "| Parameter           | Meaning                       |\n",
    "|---------------------|-------------------------------|\n",
    "| Architecture        | 32 bit ARM Cortex M3          |\n",
    "| Operating Voltage    | 2.7V to 3.6V                  |\n",
    "| CPU Frequency        | 72 MHz                        |\n",
    "| Number of GPIO pins  | 37                            |\n",
    "| Number of PWM pins   | 12                            |\n",
    "| Analog Input Pins    | 10 (12 bit resolution)        |\n",
    "| I2C Peripherals      | 2                             |\n",
    "| SPI Peripherals      | 2                             |\n",
    "| CAN 2.0 Peripheral   | 1                             |\n",
    "| Timers               | 3(16-bit), 1                  |\n",
    "| Flash Memory         | 64KB                          |\n",
    "| RAM                  | 20kB                          |\n",
    "\n",
    "[More information](https://stm32-base.org/boards/STM32F103C8T6-Blue-Pill.html)\n"
   ]
  },
  {
   "attachments": {},
   "cell_type": "markdown",
   "metadata": {},
   "source": [
    "# Send and Receive\n",
    "\n",
    "## Protocols\n",
    "Probably 1-wire?\n",
    "\n",
    "## Sending a message\n",
    "In this context, we assume we are trying to transmit \"messages\", strings of certain length.\n",
    "\n",
    "In C, a String is stored as an array of characters (with a null byte at the end). We should keep that in mind for flash limited operations, as there will be a max size allowable that we can store.\n",
    "\n",
    "Since the Blue Pill is very limited on flash memory (64 kB) and RAM (20 kB), it makes sense to set a 50-100 character limit (each character is one byte, so 1B)."
   ]
  },
  {
   "attachments": {},
   "cell_type": "markdown",
   "metadata": {},
   "source": [
    "### Encoding the messages as binary\n",
    "We determined ASCII to be an appropriate encoding for the messages into binary. This is due to simplicity and familiarity with ASCII codes from the team.\n",
    "\n",
    "> ASCII stands for American Standard Code for Information Interchange. Computers can only understand numbers, so an ASCII code is the numerical representation of a character such as 'a' or '@' or an action of some sort.\n",
    "\n",
    "![](./asciifull.gif)\n",
    "\n",
    "Another possible option is UTF-8, which is more commonly used today (and is better suited for multiple language support), but we decided to opt for ASCII due to its simplicity."
   ]
  },
  {
   "cell_type": "code",
   "execution_count": 7,
   "metadata": {},
   "outputs": [],
   "source": [
    "from ctypes import *\n",
    "import numpy as np"
   ]
  },
  {
   "attachments": {},
   "cell_type": "markdown",
   "metadata": {},
   "source": [
    "The cell below showcases how a single character `\"a\"` can be represented by its ASCII byte equivalent. It maps to a byte that represent the decimal number 97, which can be seen above in the table"
   ]
  },
  {
   "cell_type": "code",
   "execution_count": 20,
   "metadata": {},
   "outputs": [
    {
     "name": "stdout",
     "output_type": "stream",
     "text": [
      "b'a'\n",
      "97\n"
     ]
    }
   ],
   "source": [
    "# Single Character\n",
    "msg = \"a\"\n",
    "\n",
    "# c_char_p is a ctypes string\n",
    "msg_c = bytes(msg, 'ascii') \n",
    "\n",
    "print(msg_c)\n",
    "\n",
    "for i in msg_c:\n",
    "    print(i)"
   ]
  },
  {
   "attachments": {},
   "cell_type": "markdown",
   "metadata": {},
   "source": [
    "In the cell below, I created a fixed length character array to mock the behavior we'd be using in C. The total number of \"characters\" allowed will be around 100, much like seen below."
   ]
  },
  {
   "cell_type": "code",
   "execution_count": 24,
   "metadata": {},
   "outputs": [
    {
     "name": "stdout",
     "output_type": "stream",
     "text": [
      "b'hello world!'\n",
      "b'h'\n",
      "b'e'\n",
      "b'l'\n",
      "b'l'\n",
      "b'o'\n",
      "b' '\n",
      "b'w'\n",
      "b'o'\n",
      "b'r'\n",
      "b'l'\n",
      "b'd'\n",
      "b'!'\n",
      "b'\\x00'\n",
      "b'\\x00'\n",
      "b'\\x00'\n",
      "b'\\x00'\n",
      "b'\\x00'\n",
      "b'\\x00'\n",
      "b'\\x00'\n",
      "b'\\x00'\n",
      "b'\\x00'\n",
      "b'\\x00'\n",
      "b'\\x00'\n",
      "b'\\x00'\n",
      "b'\\x00'\n",
      "b'\\x00'\n",
      "b'\\x00'\n",
      "b'\\x00'\n",
      "b'\\x00'\n",
      "b'\\x00'\n",
      "b'\\x00'\n",
      "b'\\x00'\n",
      "b'\\x00'\n",
      "b'\\x00'\n",
      "b'\\x00'\n",
      "b'\\x00'\n",
      "b'\\x00'\n",
      "b'\\x00'\n",
      "b'\\x00'\n",
      "b'\\x00'\n",
      "b'\\x00'\n",
      "b'\\x00'\n",
      "b'\\x00'\n",
      "b'\\x00'\n",
      "b'\\x00'\n",
      "b'\\x00'\n",
      "b'\\x00'\n",
      "b'\\x00'\n",
      "b'\\x00'\n",
      "b'\\x00'\n",
      "b'\\x00'\n",
      "b'\\x00'\n",
      "b'\\x00'\n",
      "b'\\x00'\n",
      "b'\\x00'\n",
      "b'\\x00'\n",
      "b'\\x00'\n",
      "b'\\x00'\n",
      "b'\\x00'\n",
      "b'\\x00'\n",
      "b'\\x00'\n",
      "b'\\x00'\n",
      "b'\\x00'\n",
      "b'\\x00'\n",
      "b'\\x00'\n",
      "b'\\x00'\n",
      "b'\\x00'\n",
      "b'\\x00'\n",
      "b'\\x00'\n",
      "b'\\x00'\n",
      "b'\\x00'\n",
      "b'\\x00'\n",
      "b'\\x00'\n",
      "b'\\x00'\n",
      "b'\\x00'\n",
      "b'\\x00'\n",
      "b'\\x00'\n",
      "b'\\x00'\n",
      "b'\\x00'\n",
      "b'\\x00'\n",
      "b'\\x00'\n",
      "b'\\x00'\n",
      "b'\\x00'\n",
      "b'\\x00'\n",
      "b'\\x00'\n",
      "b'\\x00'\n",
      "b'\\x00'\n",
      "b'\\x00'\n",
      "b'\\x00'\n",
      "b'\\x00'\n",
      "b'\\x00'\n",
      "b'\\x00'\n",
      "b'\\x00'\n",
      "b'\\x00'\n",
      "b'\\x00'\n",
      "b'\\x00'\n",
      "b'\\x00'\n",
      "b'\\x00'\n",
      "b'\\x00'\n",
      "b'\\x00'\n"
     ]
    }
   ],
   "source": [
    "NUM_CHARS = 100\n",
    "\n",
    "# Multiple characters\n",
    "msg = \"hello world!\"\n",
    "# Create a fixed length array of characters\n",
    "msg_c = (c_char*NUM_CHARS)()\n",
    "msg_c.value = bytes(msg, 'ascii') \n",
    "print(msg_c.value)\n",
    "\n",
    "for i in msg_c:\n",
    "    print(i)"
   ]
  },
  {
   "attachments": {},
   "cell_type": "markdown",
   "metadata": {},
   "source": [
    "The actual bytes in the sequence `hello world!` is printed below."
   ]
  },
  {
   "cell_type": "code",
   "execution_count": 26,
   "metadata": {},
   "outputs": [
    {
     "name": "stdout",
     "output_type": "stream",
     "text": [
      "104\n",
      "101\n",
      "108\n",
      "108\n",
      "111\n",
      "32\n",
      "119\n",
      "111\n",
      "114\n",
      "108\n",
      "100\n",
      "33\n"
     ]
    }
   ],
   "source": [
    "for i in msg_c.value:\n",
    "    print(i)"
   ]
  },
  {
   "attachments": {},
   "cell_type": "markdown",
   "metadata": {},
   "source": [
    "## Byte sequences to signals\n",
    "Transforming byte sequences that are digital in nature into analog signals to be transmitted is what is known as modulation.\n",
    "\n",
    "The modulation technique we're hoping to use is On-Off Keying (OOK), where an on signal *s1* represents a 1 bit and an off signal *s2* represents a 0 bit.\n",
    "\n",
    "To take the example from above, we have the character `'a'`, which corresponds to `0110 0001` in binary.\n",
    "\n",
    "There are several ways we can approach this:\n",
    "- Sending bit by bit\n",
    "  - Our signal constellation consists of two signals, one for \"on\" and one for \"off\"\n",
    "- Sending by 4 bits or 1 byte\n",
    "  - Instead of just transmitted 1's and 0's, we construct \"signals\" for a sequence of bits and bytes\n",
    "  - For example, `0110` can be mapped to some signal of period T where it is on for T/2 from T/4."
   ]
  },
  {
   "cell_type": "code",
   "execution_count": 39,
   "metadata": {},
   "outputs": [],
   "source": [
    "from scipy import signal\n",
    "import matplotlib.pyplot as plt"
   ]
  },
  {
   "cell_type": "code",
   "execution_count": 40,
   "metadata": {},
   "outputs": [],
   "source": [
    "# # Building the amplitude modulation waveform\n",
    "# f_carrier = 200e3 # 200 kHz\n",
    "# f_modulated = 0.5 # 10 kHz\n",
    "\n",
    "# Ac = 100.0 # 100 V\n",
    "# Am = 1.0 # 1.0 V\n",
    "\n",
    "# tmax = 20.0 # 20 seconds\n",
    "# samples = 10000 # 10000 samples\n",
    "\n",
    "# t = np.linspace(0, tmax, samples, endpoint=False)\n",
    "# pwm = Ac/2*(signal.square(2 * np.pi*f_carrier*t, duty=0.45)+1)\n",
    "# pwm_modulated = Am/2*(signal.square(2 * np.pi*f_modulated*t, duty=0.50)+1)\n",
    "\n",
    "# # Modulate the carrier\n",
    "# sig = pwm_modulated*pwm\n",
    "# plt.plot(t,sig)\n",
    "# plt.xlim(0,20)"
   ]
  },
  {
   "cell_type": "code",
   "execution_count": 41,
   "metadata": {},
   "outputs": [],
   "source": [
    "def get_normalized_bit(value, bit_index):\n",
    "    return (value >> bit_index) & 1"
   ]
  },
  {
   "attachments": {},
   "cell_type": "markdown",
   "metadata": {},
   "source": [
    "The code below generates a byte signal corresponding to the ASCI representation of the character being sent. In the example below, the character `a` is sent, so it should correspond to a signal that looks like `0110 0001`."
   ]
  },
  {
   "cell_type": "code",
   "execution_count": 134,
   "metadata": {},
   "outputs": [
    {
     "data": {
      "text/plain": [
       "[<matplotlib.lines.Line2D at 0x1de4d62c640>]"
      ]
     },
     "execution_count": 134,
     "metadata": {},
     "output_type": "execute_result"
    },
    {
     "data": {
      "image/png": "[encoded data removed]",
      "text/plain": [
       "<Figure size 432x288 with 1 Axes>"
      ]
     },
     "metadata": {
      "needs_background": "light"
     },
     "output_type": "display_data"
    }
   ],
   "source": [
    "# AM modulation done using a character array\n",
    "NUM_CHARS = 20\n",
    "\n",
    "# Multiple characters\n",
    "msg = \"hello world!\"\n",
    "# Create a fixed length array of characters\n",
    "msg_c = (c_char*NUM_CHARS)()\n",
    "msg_c.value = msg.encode('ascii')\n",
    "\n",
    "# Relate to our signal time length\n",
    "Tb = 50e-6\n",
    "N = 8 # 8 bits per byte\n",
    "T = Tb*N # 80 us byte time\n",
    "\n",
    "f_carrier = 200e3 # 200 kHz\n",
    "f_modulated = 1/Tb # 10 kHz\n",
    "\n",
    "Ac = 100.0 # 100 V\n",
    "Am = 1.0 # 1.0 V\n",
    "\n",
    "tmax = T # 20 seconds\n",
    "samples = 100 # 10000 samples\n",
    "\n",
    "t = np.linspace(0, tmax, samples, endpoint=False)\n",
    "pwm = Ac/2*(signal.square(2 * np.pi*f_carrier*t, duty=0.45)+1)\n",
    "\n",
    "#t = np.linspace(0, tmax, samples, endpoint=False)\n",
    "t_bit = np.linspace(0, Tb, samples, endpoint=False)\n",
    "pwm = Ac/2*(signal.square(2 * np.pi*f_carrier*t_bit, duty=0.45)+1)\n",
    "\n",
    "# Get all the bits at once\n",
    "sig_bits = np.unpackbits(np.frombuffer(msg_c, dtype=np.uint8))\n",
    "\n",
    "# Create the modulated signal\n",
    "mod = np.array([])\n",
    "\n",
    "for i in range(len(sig_bits)):\n",
    "    mod = np.append(mod, sig_bits[i]*pwm)\n",
    "\n",
    "plt.plot(mod)"
   ]
  },
  {
   "attachments": {},
   "cell_type": "markdown",
   "metadata": {},
   "source": [
    "Assuming our channel is AWGN (should be a valid assumption at our level), we can model noise using a Gaussian distribution as shown in the cell below."
   ]
  },
  {
   "cell_type": "code",
   "execution_count": 135,
   "metadata": {},
   "outputs": [
    {
     "data": {
      "text/plain": [
       "[<matplotlib.lines.Line2D at 0x1de501b2490>]"
      ]
     },
     "execution_count": 135,
     "metadata": {},
     "output_type": "execute_result"
    },
    {
     "data": {
      "image/png": "[encoded data removed]",
      "text/plain": [
       "<Figure size 432x288 with 1 Axes>"
      ]
     },
     "metadata": {
      "needs_background": "light"
     },
     "output_type": "display_data"
    }
   ],
   "source": [
    "## Noise\n",
    "# Generate noise\n",
    "mu, sigma = 10, 10 # mean and standard deviation\n",
    "noise = np.random.normal(mu, sigma, len(mod))\n",
    "\n",
    "# Add noise to the signal\n",
    "mod_noise = mod + noise\n",
    "\n",
    "plt.plot(mod_noise)"
   ]
  },
  {
   "attachments": {},
   "cell_type": "markdown",
   "metadata": {},
   "source": [
    "I tried to get the \"envelope detector\" implemented in simulation below, but it ended up not modelling the actual physical one we will be using, so I abandoned it below."
   ]
  },
  {
   "cell_type": "code",
   "execution_count": 136,
   "metadata": {},
   "outputs": [],
   "source": [
    "# Envelope detection\n",
    "# Get the envelope using a low pass filter\n",
    "env = mod_noise"
   ]
  },
  {
   "attachments": {},
   "cell_type": "markdown",
   "metadata": {},
   "source": [
    "The below cells model possible scalings done on the receiver side for the signal."
   ]
  },
  {
   "cell_type": "code",
   "execution_count": 137,
   "metadata": {},
   "outputs": [
    {
     "data": {
      "text/plain": [
       "[<matplotlib.lines.Line2D at 0x1de523ff520>]"
      ]
     },
     "execution_count": 137,
     "metadata": {},
     "output_type": "execute_result"
    },
    {
     "data": {
      "image/png": "[encoded data removed]",
      "text/plain": [
       "<Figure size 432x288 with 1 Axes>"
      ]
     },
     "metadata": {
      "needs_background": "light"
     },
     "output_type": "display_data"
    }
   ],
   "source": [
    "# Voltage divider to get it into 0-3.3 V range\n",
    "# Get the envelope\n",
    "v_max = 160\n",
    "v_ref = 3.3\n",
    "\n",
    "scaled = env/v_max*v_ref\n",
    "plt.plot(scaled)"
   ]
  },
  {
   "cell_type": "code",
   "execution_count": 138,
   "metadata": {},
   "outputs": [
    {
     "data": {
      "text/plain": [
       "[<matplotlib.lines.Line2D at 0x1de502942b0>]"
      ]
     },
     "execution_count": 138,
     "metadata": {},
     "output_type": "execute_result"
    },
    {
     "data": {
      "image/png": "[encoded data removed]",
      "text/plain": [
       "<Figure size 432x288 with 1 Axes>"
      ]
     },
     "metadata": {
      "needs_background": "light"
     },
     "output_type": "display_data"
    }
   ],
   "source": [
    "# ADC conversion\n",
    "## Based on this tutorial: https://learn.adafruit.com/circuitpython-basics-analog-inputs-and-outputs/analog-to-digital-converter-inputs\n",
    "\n",
    "bit_resolution = 12 # 12 bits\n",
    "v_ref = 3.3 # 3.3 V\n",
    "\n",
    "adcout = (scaled/v_ref*2**bit_resolution).astype(int)\n",
    "\n",
    "plt.plot(adcout)"
   ]
  },
  {
   "cell_type": "code",
   "execution_count": 139,
   "metadata": {},
   "outputs": [],
   "source": [
    "import cmsisdsp as dsp"
   ]
  },
  {
   "cell_type": "code",
   "execution_count": 140,
   "metadata": {},
   "outputs": [],
   "source": [
    "# Separate into bit windows\n",
    "# Get the bit windows\n",
    "window_size = len(adcout)/8"
   ]
  },
  {
   "attachments": {},
   "cell_type": "markdown",
   "metadata": {},
   "source": [
    "For \"demodulation\", I separated each bit into its corresponding window size and then looked at it bit-by-bit. We can also consider doing this for a longer sequence of bits and then using correlation to figure out the bytes."
   ]
  },
  {
   "attachments": {},
   "cell_type": "markdown",
   "metadata": {},
   "source": [
    "The cell below shows \"demodulation\" by just taking the average of the received signal."
   ]
  },
  {
   "cell_type": "code",
   "execution_count": 141,
   "metadata": {},
   "outputs": [
    {
     "data": {
      "application/vnd.jupyter.widget-view+json": {
       "model_id": "1b970b38807a49888f618bb47fd0ed9d",
       "version_major": 2,
       "version_minor": 0
      },
      "text/plain": [
       "interactive(children=(IntSlider(value=0, description='Index i:', max=7), Output()), _dom_classes=('widget-inte…"
      ]
     },
     "metadata": {},
     "output_type": "display_data"
    },
    {
     "data": {
      "text/plain": [
       "<function __main__.plot_i(i)>"
      ]
     },
     "execution_count": 141,
     "metadata": {},
     "output_type": "execute_result"
    }
   ],
   "source": [
    "from ipywidgets import interact, widgets\n",
    "\n",
    "# Define a function to plot the i-th index of y\n",
    "def plot_i(i):\n",
    "    sig = adcout[i*100:(i+1)*100]\n",
    "    plt.plot(sig)\n",
    "    # Get the mean\n",
    "    mea = dsp.arm_mean_q15(sig)\n",
    "\n",
    "    decision_thres = 500\n",
    "\n",
    "    if mea > decision_thres:\n",
    "        decision = 1\n",
    "    else:\n",
    "        decision = 0\n",
    "\n",
    "    plt.title(f\"Index {i} with mean {mea} and bit {decision}\")\n",
    "    plt.xlim(0,100)\n",
    "    plt.ylim(0,2**bit_resolution)\n",
    "    plt.show()\n",
    "\n",
    "# Create a slider widget for integer i\n",
    "slider_i = widgets.IntSlider(value=0, min=0, max=7, step=1, description='Index i:')\n",
    "\n",
    "# Use the interact function to link the slider with the plot function\n",
    "interact(plot_i, i=slider_i)\n"
   ]
  },
  {
   "attachments": {},
   "cell_type": "markdown",
   "metadata": {},
   "source": [
    "The cell below tries a similar approach, but correlates the signal to a square wave first."
   ]
  },
  {
   "cell_type": "code",
   "execution_count": 142,
   "metadata": {},
   "outputs": [
    {
     "data": {
      "text/plain": [
       "[<matplotlib.lines.Line2D at 0x1de4d66d670>]"
      ]
     },
     "execution_count": 142,
     "metadata": {},
     "output_type": "execute_result"
    },
    {
     "data": {
      "image/png": "[encoded data removed]",
      "text/plain": [
       "<Figure size 432x288 with 1 Axes>"
      ]
     },
     "metadata": {
      "needs_background": "light"
     },
     "output_type": "display_data"
    }
   ],
   "source": [
    "# Generating fake \"square\" pulses for correlation\n",
    "\n",
    "num_fft_bins = int(window_size // 2 + 1)\n",
    "\n",
    "window_size = int(window_size)\n",
    "square = np.zeros(window_size)\n",
    "\n",
    "for i in range(int(window_size/4), int(window_size*3/4)):\n",
    "    square[i] = 1\n",
    "\n",
    "plt.plot(square)"
   ]
  },
  {
   "cell_type": "code",
   "execution_count": 143,
   "metadata": {},
   "outputs": [
    {
     "data": {
      "text/plain": [
       "[<matplotlib.lines.Line2D at 0x1de5009d190>]"
      ]
     },
     "execution_count": 143,
     "metadata": {},
     "output_type": "execute_result"
    },
    {
     "data": {
      "image/png": "[encoded data removed]",
      "text/plain": [
       "<Figure size 432x288 with 1 Axes>"
      ]
     },
     "metadata": {
      "needs_background": "light"
     },
     "output_type": "display_data"
    }
   ],
   "source": [
    "s1 = dsp.arm_float_to_q15(0.5*square)\n",
    "s2 = dsp.arm_float_to_q15(0.01*square)\n",
    "\n",
    "plt.plot(s1)\n",
    "plt.plot(s2)"
   ]
  },
  {
   "cell_type": "code",
   "execution_count": 144,
   "metadata": {},
   "outputs": [
    {
     "data": {
      "application/vnd.jupyter.widget-view+json": {
       "model_id": "b8eb1587019241cdb20cce089a76cb8e",
       "version_major": 2,
       "version_minor": 0
      },
      "text/plain": [
       "interactive(children=(IntSlider(value=0, description='Index i:', max=7), Output()), _dom_classes=('widget-inte…"
      ]
     },
     "metadata": {},
     "output_type": "display_data"
    },
    {
     "data": {
      "text/plain": [
       "<function __main__.plot_conv(i)>"
      ]
     },
     "execution_count": 144,
     "metadata": {},
     "output_type": "execute_result"
    }
   ],
   "source": [
    "from ipywidgets import interact, widgets\n",
    "\n",
    "# Define a function to plot the i-th index of y\n",
    "def plot_conv(i):\n",
    "    sig = adcout[i*100:(i+1)*100]\n",
    "    r1 = dsp.arm_correlate_q15(sig, len(sig),s1, len(s1))\n",
    "\n",
    "    if dsp.arm_mean_q15(r1) > 5000:\n",
    "        decision = 1\n",
    "    else:\n",
    "        decision = 0  \n",
    "    print(decision)\n",
    "    plt.plot(r1)\n",
    "    plt.plot(adcout[i*100:(i+1)*100])\n",
    "    plt.title(f\"Index {i}\")\n",
    "    plt.show()\n",
    "\n",
    "# Create a slider widget for integer i\n",
    "slider_i = widgets.IntSlider(value=0, min=0, max=7, step=1, description='Index i:')\n",
    "\n",
    "# Use the interact function to link the slider with the plot function\n",
    "interact(plot_conv, i=slider_i)"
   ]
  },
  {
   "attachments": {},
   "cell_type": "markdown",
   "metadata": {},
   "source": [
    "Decoding it below:"
   ]
  },
  {
   "cell_type": "code",
   "execution_count": 149,
   "metadata": {},
   "outputs": [
    {
     "name": "stdout",
     "output_type": "stream",
     "text": [
      "['h' 'e' 'l' 'l' 'o' ' ' 'w' 'o' 'r' 'l' 'd' '!' '' '' '' '' '' '' '' '']\n"
     ]
    }
   ],
   "source": [
    "threshold = 7000 # play around with this value for better decoding\n",
    "\n",
    "results_lst = []\n",
    "char_lst = []\n",
    "for i in range(len(adcout)//100):\n",
    "    sig = adcout[i*100:(i+1)*100]\n",
    "    r1 = dsp.arm_correlate_q15(sig, len(sig), s1, len(s1))\n",
    "\n",
    "    if dsp.arm_mean_q15(r1) > threshold:\n",
    "        char_lst.append('1')\n",
    "    else:\n",
    "        char_lst.append('0')\n",
    "\n",
    "    # If we have 8 bits (i.e., one ASCII character) in char_lst, convert it to a string\n",
    "    if len(char_lst) == 8:\n",
    "        char_str = ''.join(char_lst)\n",
    "        results_lst.append(chr(int(char_str, 2)))\n",
    "        char_lst = []\n",
    "\n",
    "# If there are remaining bits in the last chunk, pad with zeros and convert to a string\n",
    "if len(char_lst) > 0:\n",
    "    while len(char_lst) < 8:\n",
    "        char_lst.append('0')\n",
    "    char_str = ''.join(char_lst)\n",
    "    results_lst.append(chr(int(char_str, 2)))\n",
    "\n",
    "results = np.array(results_lst, dtype='str')\n",
    "print(results)"
   ]
  },
  {
   "attachments": {},
   "cell_type": "markdown",
   "metadata": {},
   "source": [
    "GOOD RESOURCES TO READ:\n",
    "- https://pysdr.org/content/digital_modulation.html\n",
    "- https://pysdr.org/content/filters.html\n",
    "- https://pysdr.org/content/pulse_shaping.html\n",
    "\n",
    "TODO/QUESTIONS I HAVE:\n",
    "- Matched filters\n",
    "  - We might want to actually think about Pulse-Shaping strategies. They mitigate symbol interference (which can easily occur due to multi-path propagation).\n",
    "  - Matched filter design? I don't quite actually utilize it to decode the message\n",
    "- What other \"processes\" are needed on the receiver side?"
   ]
  }
 ],
 "metadata": {
  "kernelspec": {
   "display_name": "base",
   "language": "python",
   "name": "python3"
  },
  "language_info": {
   "codemirror_mode": {
    "name": "ipython",
    "version": 3
   },
   "file_extension": ".py",
   "mimetype": "text/x-python",
   "name": "python",
   "nbconvert_exporter": "python",
   "pygments_lexer": "ipython3",
   "version": "3.8.8"
  },
  "orig_nbformat": 4
 },
 "nbformat": 4,
 "nbformat_minor": 2
}
